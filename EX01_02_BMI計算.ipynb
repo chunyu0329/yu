{
  "nbformat": 4,
  "nbformat_minor": 0,
  "metadata": {
    "colab": {
      "provenance": [],
      "authorship_tag": "ABX9TyPjexh1XPqSOxUYU95gFY7K",
      "include_colab_link": true
    },
    "kernelspec": {
      "name": "python3",
      "display_name": "Python 3"
    },
    "language_info": {
      "name": "python"
    }
  },
  "cells": [
    {
      "cell_type": "markdown",
      "metadata": {
        "id": "view-in-github",
        "colab_type": "text"
      },
      "source": [
        "<a href=\"https://colab.research.google.com/github/chunyu0329/yu/blob/main/EX01_02_BMI%E8%A8%88%E7%AE%97.ipynb\" target=\"_parent\"><img src=\"https://colab.research.google.com/assets/colab-badge.svg\" alt=\"Open In Colab\"/></a>"
      ]
    },
    {
      "cell_type": "code",
      "execution_count": 1,
      "metadata": {
        "colab": {
          "base_uri": "https://localhost:8080/"
        },
        "id": "Tch8MmvHK1fu",
        "outputId": "06930c8c-9bad-4091-ba2f-440ad2d8e57d"
      },
      "outputs": [
        {
          "output_type": "stream",
          "name": "stdout",
          "text": [
            "hight(cm):157\n",
            "weight(kg):57\n",
            "BMI: 23.1\n"
          ]
        }
      ],
      "source": [
        "ht=float(input(('hight(cm):')))\n",
        "wt=float(input(('weight(kg):'\n",
        "bmi=wt/(ht/100)**2\n",
        "print('BMI:',round(bmi,1))"
      ]
    }
  ]
}