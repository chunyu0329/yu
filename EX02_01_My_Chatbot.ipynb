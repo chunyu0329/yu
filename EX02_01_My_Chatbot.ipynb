{
  "nbformat": 4,
  "nbformat_minor": 0,
  "metadata": {
    "colab": {
      "provenance": [],
      "authorship_tag": "ABX9TyNBV9akReDSK37d7av/KUXL",
      "include_colab_link": true
    },
    "kernelspec": {
      "name": "python3",
      "display_name": "Python 3"
    },
    "language_info": {
      "name": "python"
    }
  },
  "cells": [
    {
      "cell_type": "markdown",
      "metadata": {
        "id": "view-in-github",
        "colab_type": "text"
      },
      "source": [
        "<a href=\"https://colab.research.google.com/github/chunyu0329/yu/blob/main/EX02_01_My_Chatbot.ipynb\" target=\"_parent\"><img src=\"https://colab.research.google.com/assets/colab-badge.svg\" alt=\"Open In Colab\"/></a>"
      ]
    },
    {
      "cell_type": "code",
      "execution_count": null,
      "metadata": {
        "id": "jm_D3fp6SF7e"
      },
      "outputs": [],
      "source": [
        "from google.colab import userdata\n",
        "import google.generativeai as genai\n",
        "genai.configure(api_key=userdata.get('API_key'))"
      ]
    },
    {
      "cell_type": "code",
      "source": [
        "generation_config={\n",
        "    \"temperature\":1,\n",
        "    \"max_output_tokens\":1280\n",
        "}\n",
        "model = genai.GenerativeModel(\n",
        " model_name=\"gemini-2.0-flash\",\n",
        " generation_config=generation_config\n",
        ")"
      ],
      "metadata": {
        "id": "SNjpH5IySqah"
      },
      "execution_count": null,
      "outputs": []
    },
    {
      "cell_type": "code",
      "source": [
        "from IPython.display import Markdown,display\n",
        "chat=model.start_chat(history=[])\n",
        "while True:\n",
        "  message=input('You:')\n",
        "  if message == 'bye!':\n",
        "    break\n",
        "  response=chat.send_message(message)\n",
        "  print('Bot:')\n",
        "  display(Markdown(response.text))"
      ],
      "metadata": {
        "colab": {
          "base_uri": "https://localhost:8080/",
          "height": 1000
        },
        "id": "4dsv-qwxTekR",
        "outputId": "84234dc7-d5b0-4106-9451-cfc2663f05ef"
      },
      "execution_count": null,
      "outputs": [
        {
          "output_type": "stream",
          "name": "stdout",
          "text": [
            "You:hi\n",
            "Bot:\n"
          ]
        },
        {
          "output_type": "display_data",
          "data": {
            "text/plain": [
              "<IPython.core.display.Markdown object>"
            ],
            "text/markdown": "Hi there! How can I help you today?\n"
          },
          "metadata": {}
        },
        {
          "output_type": "stream",
          "name": "stdout",
          "text": [
            "You:Do you know SEVENTEEN?\n",
            "Bot:\n"
          ]
        },
        {
          "output_type": "display_data",
          "data": {
            "text/plain": [
              "<IPython.core.display.Markdown object>"
            ],
            "text/markdown": "Yes, I do! I know that SEVENTEEN (세븐틴) is a popular South Korean boy group formed by Pledis Entertainment. \n\nI know they have 13 members:\n\n*   **S.Coups (Leader)**\n*   **Jeonghan**\n*   **Joshua**\n*   **Jun**\n*   **Hoshi**\n*   **Wonwoo**\n*   **Woozi**\n*   **DK**\n*   **Mingyu**\n*   **The8**\n*   **Seungkwan**\n*   **Vernon**\n*   **Dino**\n\nThey're known for their self-producing abilities, dynamic performances, and hit songs.\n\nIs there anything specific you'd like to know about SEVENTEEN? I can try my best to answer your questions. For example, are you curious about their:\n\n*   **Members?**\n*   **Music?**\n*   **History?**\n*   **Discography?**\n*   **Something else entirely?**\n"
          },
          "metadata": {}
        },
        {
          "output_type": "stream",
          "name": "stdout",
          "text": [
            "You:Please tell me Mingyu\n",
            "Bot:\n"
          ]
        },
        {
          "output_type": "display_data",
          "data": {
            "text/plain": [
              "<IPython.core.display.Markdown object>"
            ],
            "text/markdown": "Okay, let's talk about Mingyu! Here's what I know about Kim Mingyu (김민규):\n\n*   **Full Name:** Kim Mingyu (김민규)\n*   **Stage Name:** Mingyu (민규)\n*   **Birthday:** April 6, 1997\n*   **Position:** Main Rapper, Sub Vocalist, Visual\n*   **Unit:** Hip-Hop Unit\n*   **Height:** Around 187 cm (6'1\") - He's the tallest member!\n*   **Nationality:** Korean\n*   **Education:** Seoul Broadcasting High School\n\n**Key Things to Know About Mingyu:**\n\n*   **Visuals:** He's widely considered one of the most visually striking members of SEVENTEEN, often praised for his handsome features and tall stature.\n*   **Rapping:** He's a member of the Hip-Hop Unit and contributes significantly to the group's rap verses. He has a deep and resonant voice that adds a lot to their songs.\n*   **Sub Vocalist:** While primarily a rapper, he also contributes vocals to many of SEVENTEEN's tracks.\n*   **\"The Renaissance Man\":** Mingyu is often referred to as SEVENTEEN's \"Renaissance Man\" because he's good at so many things! He's known for his:\n    *   **Cooking:** He's a great cook and often cooks for the other members.\n    *   **DIY Skills:** He's very handy and can fix things around their dorm. He also enjoys building furniture and other DIY projects.\n    *   **Photography:** He has a passion for photography and often takes photos of the other members and scenery.\n*   **Personality:** He's known for his outgoing, energetic, and friendly personality. He's often seen as a mood maker in the group. He is sometimes clumsy but with a charming appeal.\n*   **Nicknames:** Some common nicknames for Mingyu include \"Gyulaf\", \"Mr. Wristband,\" and \"Chef Ming.\"\n\n**In short, Mingyu is a multi-talented and visually stunning member of SEVENTEEN, known for his rapping, cooking skills, DIY abilities, and charming personality.**\n\nIs there anything else you'd like to know about Mingyu? Maybe you're curious about a specific aspect of his personality, his skills, or his contributions to SEVENTEEN's music? Just let me know!\n"
          },
          "metadata": {}
        },
        {
          "name": "stdout",
          "output_type": "stream",
          "text": [
            "You:bye!\n"
          ]
        }
      ]
    }
  ]
}